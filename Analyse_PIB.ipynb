{
  "nbformat": 4,
  "nbformat_minor": 0,
  "metadata": {
    "colab": {
      "provenance": []
    },
    "kernelspec": {
      "name": "python3",
      "display_name": "Python 3"
    },
    "language_info": {
      "name": "python"
    }
  },
  "cells": [
    {
      "cell_type": "code",
      "execution_count": 1,
      "metadata": {
        "colab": {
          "base_uri": "https://localhost:8080/",
          "height": 124
        },
        "id": "iQvkA_G7sZhT",
        "outputId": "714987f9-0e8a-421a-b5b7-1df9faca8e4f"
      },
      "outputs": [
        {
          "output_type": "error",
          "ename": "SyntaxError",
          "evalue": "unterminated string literal (detected at line 7) (ipython-input-1229272822.py, line 7)",
          "traceback": [
            "\u001b[0;36m  File \u001b[0;32m\"/tmp/ipython-input-1229272822.py\"\u001b[0;36m, line \u001b[0;32m7\u001b[0m\n\u001b[0;31m    Le PIB mondial nominal estimé pour 2024 s'élève à environ 111 326 milliards de dollars américains. Cette estimation reflète une progression globale malgré des disparités économiques régionales.\u001b[0m\n\u001b[0m                                             ^\u001b[0m\n\u001b[0;31mSyntaxError\u001b[0m\u001b[0;31m:\u001b[0m unterminated string literal (detected at line 7)\n"
          ]
        }
      ],
      "source": [
        "# Rapport sur le PIB mondial 2024\n",
        "\n",
        "## Croissance économique mondiale\n",
        "La croissance économique mondiale en 2024 est estimée à environ 2,9% selon l'OCDE. Cette croissance est inégale selon les régions, avec une inflation qui persiste dans plusieurs pays mais tend à se stabiliser ou ralentir dans d'autres. La Banque mondiale prévoit un taux de croissance mondial proche de 2,6% pour 2024, avec une légère reprise à 2,7% en 2025-2026.\n",
        "\n",
        "## Taille du PIB mondial\n",
        "Le PIB mondial nominal estimé pour 2024 s'élève à environ 111 326 milliards de dollars américains. Cette estimation reflète une progression globale malgré des disparités économiques régionales.\n",
        "\n",
        "## Classement des principales économies par PIB nominal (2023-2024)\n",
        "| Rang | Pays          | PIB 2023 (milliards $) | Croissance PIB 2024 (%) |\n",
        "|-------|---------------|------------------------|------------------------|\n",
        "| 1     | États-Unis    | 26 185                 | 2,1                    |\n",
        "| 2     | Chine         | 21 643                 | 4,7                    |\n",
        "| 3     | Japon         | 4 365                  | 1,0                    |\n",
        "| 4     | Allemagne     | 4 120                  | 0,3                    |\n",
        "| 5     | Inde          | 3 820                  | 6,2                    |\n",
        "| 6     | Royaume-Uni   | 3 479                  | 0,7                    |\n",
        "| 7     | France        | 2 806                  | 0,6                    |\n",
        "| 8     | Canada        | 2 326                  | 0,9                    |\n",
        "| 9     | Russie        | 2 136                  | 1,8                    |\n",
        "| 10    | Brésil        | 2 059                  | 1,8                    |\n",
        "\n",
        "La France occupe la 7ème place mondiale avec un PIB estimé à 2 806 milliards de dollars en 2023 et une croissance prévue de 0,6% en 2024.\n",
        "\n",
        "## PIB par habitant en 2024 (exemples)\n",
        "Les plus forts PIB par habitant se retrouvent dans des pays comme :\n",
        "- Luxembourg : 135 605 $\n",
        "- Irlande : 112 247 $\n",
        "- Suisse : 102 865 $\n",
        "\n",
        "La France se place à la 23ème position avec un PIB par habitant de 46 315 euros.\n",
        "\n",
        "## Tendances et perspectives\n",
        "- Les États-Unis restent la première économie mondiale avec un PIB de 26 000 milliards de dollars environ en 2024.\n",
        "- La Chine est la deuxième puissance économique devant le Japon et l'Allemagne.\n",
        "- L'Inde montre une forte croissance, la plus élevée parmi les grandes économies (6,2%).\n",
        "- L'économie mondiale continue de faire face à des défis comme l'inflation persistante et des disparités régionales marquées.\n",
        "\n",
        "---\n",
        "\n",
        "Ce rapport synthétise les principales données économiques du PIB mondial pour l'année 2024, reflétant les tendances actuelles de croissance et les classements des principales économies mondiales.\n",
        "\n",
        "Sources : FMI, OCDE, Banque mondiale, Journaldunet [web:1][web:2][web:7][web:9]\n"
      ]
    },
    {
      "cell_type": "markdown",
      "metadata": {
        "id": "a5d92c47"
      },
      "source": [
        "# Rapport sur le PIB mondial 2024\n",
        "\n",
        "## Croissance économique mondiale\n",
        "La croissance économique mondiale en 2024 est estimée à environ 2,9% selon l'OCDE. Cette croissance est inégale selon les régions, avec une inflation qui persiste dans plusieurs pays mais tend à se stabiliser ou ralentir dans d'autres. La Banque mondiale prévoit un taux de croissance mondial proche de 2,6% pour 2024, avec une légère reprise à 2,7% en 2025-2026.\n",
        "\n",
        "## Taille du PIB mondial\n",
        "Le PIB mondial nominal estimé pour 2024 s'élève à environ 111 326 milliards de dollars américains. Cette estimation reflète une progression globale malgré des disparités économiques régionales.\n",
        "\n",
        "## Classement des principales économies par PIB nominal (2023-2024)\n",
        "| Rang | Pays          | PIB 2023 (milliards $) | Croissance PIB 2024 (%) |\n",
        "|-------|---------------|------------------------|------------------------|\n",
        "| 1     | États-Unis    | 26 185                 | 2,1                    |\n",
        "| 2     | Chine         | 21 643                 | 4,7                    |\n",
        "| 3     | Japon         | 4 365                  | 1,0                    |\n",
        "| 4     | Allemagne     | 4 120                  | 0,3                    |\n",
        "| 5     | Inde          | 3 820                  | 6,2                    |\n",
        "| 6     | Royaume-Uni   | 3 479                  | 0,7                    |\n",
        "| 7     | France        | 2 806                  | 0,6                    |\n",
        "| 8     | Canada        | 2 326                  | 0,9                    |\n",
        "| 9     | Russie        | 2 136                  | 1,8                    |\n",
        "| 10    | Brésil        | 2 059                  | 1,8                    |\n",
        "\n",
        "La France occupe la 7ème place mondiale avec un PIB estimé à 2 806 milliards de dollars en 2023 et une croissance prévue de 0,6% en 2024.\n",
        "\n",
        "## PIB par habitant en 2024 (exemples)\n",
        "Les plus forts PIB par habitant se retrouvent dans des pays comme :\n",
        "- Luxembourg : 135 605 $\n",
        "- Irlande : 112 247 $\n",
        "- Suisse : 102 865 $\n",
        "\n",
        "La France se place à la 23ème position avec un PIB par habitant de 46 315 euros.\n",
        "\n",
        "## Tendances et perspectives\n",
        "- Les États-Unis restent la première économie mondiale avec un PIB de 26 000 milliards de dollars environ en 2024.\n",
        "- La Chine est la deuxième puissance économique devant le Japon et l'Allemagne.\n",
        "- L'Inde montre une forte croissance, la plus élevée parmi les grandes économies (6,2%).\n",
        "- L'économie mondiale continue de faire face à des défis comme l'inflation persistante et des disparités régionales marquées.\n",
        "\n",
        "---\n",
        "\n",
        "Ce rapport synthétise les principales données économiques du PIB mondial pour l'année 2024, reflétant les tendances actuelles de croissance et les classements des principales économies mondiales.\n",
        "\n",
        "Sources : FMI, OCDE, Banque mondiale, Journaldunet [web:1][web:2][web:7][web:9]"
      ]
    }
  ]
}